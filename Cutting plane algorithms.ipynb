{
 "cells": [
  {
   "cell_type": "markdown",
   "metadata": {},
   "source": [
    "# Mathematical programming with Jupyter Notebooks\n",
    "# Cutting plane algorithm\n",
    "\n",
    "*Copyright 2016, Pedro Belin Castellucci & Franklina Maria Bragion de Toledo, All rights reserved.*\n",
    "\n",
    "*This Notebook is licenced under GLPv3 (https://opensource.org/licenses/GPL-3.0).*\n",
    "\n",
    "This Notebook talks about cutting plane algorithms and Chvàtal-Gomory cuts and is based on chapter eigth of the book Integer Programming (Wolsey, 1998).\n",
    "\n",
    "A cutting plane algorithm is an algorithm that makes use of the valid inequalities we have discussed to automatically reformulate an integer problem in order to get closer the convex hull of its feasible region. However, there might be a huge number of valid inequalities to be added in a formulation of an integer programming problem. Adding all these inequalities *a priori* may make even the linear relaxation of the problem to be computationally intractable. The idea of cutting plane algorithms is adding valid inequalities as they are needed, namely, when they will eliminate non-integer optimal solutions for the linear relaxation of a problem.\n",
    "\n",
    "Let $\\mathbb{F}$ be a set of valid inequalities for a integer problem $IP$:\n",
    "\n",
    "$Min \\ c(x)$\n",
    "\n",
    "s.t. $x \\in X$,\n",
    "\n",
    "with  $X = P \\cap \\mathbb{Z}^n$.\n",
    "\n",
    "A cutting plane algorithm can be briefly described as follows:\n",
    "\n",
    "1. Solve the linear relaxation $z^R = Min \\{c(x): x \\in P\\}$. Let $x^t$ be an optimal solution for it;\n",
    "\n",
    "    2. If $x^t \\in \\mathbb{Z}^n$, stop. $x^t$ is an optimal solution to IP.\n",
    "    \n",
    "    3. Otherwise, \n",
    "    \n",
    "        5. if $x^t$ violates inequality $j \\in \\mathbb{F}$: add inequality $j$ to the linear relaxation ($P$) and go back to step 1.\n",
    "        \n",
    "        6. othewise, stop. \n",
    "\n",
    "If the algorithms stops without an integer solution, we have a better formulation with all the added valid inequalities.\n",
    "\n",
    "Now, we will implement an example with PuLP. Consider the following IP problem:\n",
    "\n",
    "$Max \\ 4x_1 - x_2$\n",
    "\n",
    "s.t. \n",
    "\n",
    "$7x_1 - 2x_2 + x_3 = 14$,\n",
    "\n",
    "$x_2 + x_4 = 3$,\n",
    "\n",
    "$2x_1 - 2x_2 + x_5 = 3$,\n",
    "\n",
    "$x_1, x_2, x_3, x_4, x_5 \\in \\mathbb{Z}_+$,\n",
    "\n",
    "\n",
    "Also, let $x_3 + 2x_4 \\geq 6$ and $x_5 \\geq 1$ be two valid inequalities for the problem. We will solve the linear relaxation of the problem -- without the valid inequalities."
   ]
  },
  {
   "cell_type": "code",
   "execution_count": 1,
   "metadata": {
    "collapsed": false
   },
   "outputs": [
    {
     "name": "stdout",
     "output_type": "stream",
     "text": [
      "x1 = 2.86;\n",
      "x2 = 3.00;\n",
      "x3 = 0.00;\n",
      "x4 = 0.00;\n",
      "x5 = 3.29;\n",
      "The optimal solution is 8.43\n"
     ]
    }
   ],
   "source": [
    "import pulp\n",
    "\n",
    "model = pulp.LpProblem('Cutting plane example', pulp.LpMaximize)\n",
    "\n",
    "# Note that we are defining the variables as continuous, NOT integer!\n",
    "x1 = pulp.LpVariable('x1', lowBound=0, cat='Continuous')\n",
    "x2 = pulp.LpVariable('x2', lowBound=0, cat='Continuous')\n",
    "x3 = pulp.LpVariable('x3', lowBound=0, cat='Continuous')\n",
    "x4 = pulp.LpVariable('x4', lowBound=0, cat='Continuous')\n",
    "x5 = pulp.LpVariable('x5', lowBound=0, cat='Continuous')\n",
    "\n",
    "# The objective function:\n",
    "model += 4*x1 - x2\n",
    "\n",
    "model += 7*x1 - 2*x2 + x3 == 14\n",
    "model += x2 + x4 == 3\n",
    "model += 2*x1 - 2*x2 + x5 == 3\n",
    "\n",
    "model.solve()\n",
    "\n",
    "for v in model.variables():\n",
    "    print '%s = %.2f;' % (v, v.value())\n",
    "    \n",
    "print ('The optimal solution is %.2f' % model.objective.value())"
   ]
  },
  {
   "cell_type": "markdown",
   "metadata": {},
   "source": [
    "We can see that PuLP found the optimal solution $(x_1, x_2, x_3, x_4, x_5) = (2.86, 3, 0, 0, 3.29)$. In this solution there are two non-integer variables, $x_1$ and $x_2$. Also, we can see that this solution violates the inequality $x_3 + 2x_4 \\geq 6$, so let us add it into the model."
   ]
  },
  {
   "cell_type": "code",
   "execution_count": 2,
   "metadata": {
    "collapsed": false
   },
   "outputs": [
    {
     "name": "stdout",
     "output_type": "stream",
     "text": [
      "x1 = 2.00;\n",
      "x2 = 0.50;\n",
      "x3 = 1.00;\n",
      "x4 = 2.50;\n",
      "x5 = 0.00;\n",
      "The optimal solution is 7.50\n"
     ]
    }
   ],
   "source": [
    "# Adding the valid inequality:\n",
    "model += x3 + 2*x4 >= 6\n",
    "\n",
    "# Re-solving the problem:\n",
    "model.solve()\n",
    "\n",
    "for v in model.variables():\n",
    "    print '%s = %.2f;' % (v, v.value())\n",
    "    \n",
    "print ('The optimal solution is %.2f' % model.objective.value())"
   ]
  },
  {
   "cell_type": "markdown",
   "metadata": {},
   "source": [
    "Now, we have the solution $(x_1, x_2, x_3, x_4, x_5) = (2, 0.5, 1, 2.5, 0)$. This solution is still not integer. Let us try adding another violeted valid inequality, $x \\geq 1$."
   ]
  },
  {
   "cell_type": "code",
   "execution_count": 3,
   "metadata": {
    "collapsed": false
   },
   "outputs": [
    {
     "name": "stdout",
     "output_type": "stream",
     "text": [
      "x1 = 2.00\n",
      "x2 = 1.00\n",
      "x3 = 2.00\n",
      "x4 = 2.00\n",
      "x5 = 1.00\n",
      "The optimal solution is 7.00\n"
     ]
    }
   ],
   "source": [
    "# Adding the valid inequality:\n",
    "model += x5 >= 1\n",
    "\n",
    "# Re-solving the model:\n",
    "model.solve()\n",
    "\n",
    "for v in model.variables():\n",
    "    print '%s = %.2f' % (v, v.value())\n",
    "    \n",
    "print ('The optimal solution is %.2f' % model.objective.value())"
   ]
  },
  {
   "cell_type": "markdown",
   "metadata": {},
   "source": [
    "With both valid inequalities we could obtain an integer solution to our relaxation, which is also a feasible solution to the original problem. Thus, since we have a lower bound, $\\underline{z}$, and an upper bound $\\bar{z}$ such that $\\underline{z} = \\bar{z}$, we have found an optimal solution to the original integer problem.\n",
    "\n",
    "Note that, in our example, we already had a family of valid inequalities. A natural question arises: *how to obtain a __good__ family of valid inequalities?* There are many answers to this question ranging from simple and general to sofisticated and problem-based rules. We will briefly discuss what is call __Gomory's fractional cutting plane algorithm__. \n",
    "\n",
    "\n",
    "## Gomory's fractional cutting plane algorithm\n",
    "\n",
    "It is a cutting plane algorithm which allows us to obtain valid inequalities for an integer problem based on an optimal solution of its linear relaxation. \n",
    "\n",
    "A solution of a linear optimization problem $z = \\{Min\\ c(x): Ax = b\\}$ can be written as $x = x_B + x_N$ such that $Ax = b \\implies Bx_B + Nx_N = b$, with $Bx_B = b$ and $Nx_N = 0$. The matrix $B$ is called __basis__. If $x$ corresponds to an optimal solution, then $B$ is called an __optimal basis__. Gomory's cutting plane algorithm uses an optimal basis to build a valid inequality that eliminates the current optimal solution of the linear relaxation.\n",
    "\n",
    "If the optimal solution to the linear relaxation $x$ is not integer, we must have $x_i \\notin \\mathbb{Z}$ for some $i$. Thus, we use the $i$-th row of matrix $A$ to generate the following valid inequality:\n",
    "\n",
    "$$x_i + \\sum_{j \\in N} \\left \\lfloor a_{ij} \\right \\rfloor x_j \\leq \\left \\lfloor b_i \\right \\rfloor.$$\n",
    "\n",
    "Abusing notation, $j \\in N$ means we are summing over all non-basic variables.\n",
    "\n",
    "We will see how this works in an example. Consider the following problem:\n",
    "\n",
    "$Min\\ c^Tx$,\n",
    "\n",
    "s. t. $\\bar{A}\\bar{x} \\leq b$,\n",
    "\n",
    "$\\bar{x} \\in \\mathbb{Z}_+$.\n",
    "\n",
    "Adding slack variables we have:\n",
    "\n",
    "$Min\\ c^Tx$,\n",
    "\n",
    "s. t. $Ax = b$,\n",
    "\n",
    "$x \\in \\mathbb{Z}_+$.\n",
    "\n",
    "\n",
    "Also, let us consider the following data for $A$, $b$ and $c$."
   ]
  },
  {
   "cell_type": "code",
   "execution_count": 6,
   "metadata": {
    "collapsed": true
   },
   "outputs": [],
   "source": [
    "import pulp\n",
    "import numpy as np\n",
    "\n",
    "A = np.matrix(\n",
    "    '1 4 1 0;'\n",
    "    '1 1 0 1'\n",
    "    )\n",
    "\n",
    "b = np.matrix(\n",
    "    '8;'\n",
    "    '4'\n",
    "    )\n",
    "\n",
    "c = np.matrix(\n",
    "    '3;'\n",
    "    '10')\n",
    "    "
   ]
  },
  {
   "cell_type": "markdown",
   "metadata": {},
   "source": [
    "Plotting the feasible region for the linear relaxation of the problem..."
   ]
  },
  {
   "cell_type": "code",
   "execution_count": 7,
   "metadata": {
    "collapsed": false
   },
   "outputs": [
    {
     "data": {
      "image/png": "[encoded data removed]",
      "text/plain": [
       "<matplotlib.figure.Figure at 0x7fe6f8d67c90>"
      ]
     },
     "metadata": {},
     "output_type": "display_data"
    }
   ],
   "source": [
    "#matplotbib for drawing\n",
    "%matplotlib inline\n",
    "\n",
    "from matplotlib import pyplot as plt\n",
    "from matplotlib.path import Path\n",
    "from matplotlib.patches import PathPatch\n",
    "from IPython.display import display\n",
    "\n",
    "# create the plot object\n",
    "fig, ax = plt.subplots(figsize=(8, 8))\n",
    "s = np.linspace(-1, 7)\n",
    "\n",
    "# add the first constraint\n",
    "ax.plot(s, (b[0,0]-A[0,0]*s)/A[0,1], lw=2, label='constraint 1')\n",
    "\n",
    "# add the second constraint\n",
    "ax.plot(s, (b[1,0] - A[1,0]*s)/A[1,1], lw=2, label='constraint 2')\n",
    "\n",
    "# add the non-negativity constraints\n",
    "ax.plot(np.zeros_like(s), s, lw=2, label='$x_1$ non-negative')\n",
    "ax.plot(s, np.zeros_like(s), lw=2, label='$x_2$ non-negative')\n",
    "\n",
    "# highlight the feasible region\n",
    "path = Path([\n",
    "    (0., 0.),\n",
    "    (0., 2),\n",
    "    (8/3.0, 4/3.0),\n",
    "    (4, 0),\n",
    "    (0., 0.),\n",
    "    (0., 0.),\n",
    "])\n",
    "\n",
    "patch = PathPatch(path, label='feasible region', alpha=0.5)\n",
    "ax.add_patch(patch)\n",
    "\n",
    "# labels and stuff\n",
    "plt.xlabel('$x_1$', fontsize=16)\n",
    "plt.ylabel('$x_2$', fontsize=16)\n",
    "plt.xlim(-1, 7)\n",
    "plt.ylim(-1, 7)\n",
    "plt.legend(fontsize=14)\n",
    "plt.grid()\n",
    "plt.show()"
   ]
  },
  {
   "cell_type": "markdown",
   "metadata": {},
   "source": [
    "Using PuLP to solve the linear relaxation we get:"
   ]
  },
  {
   "cell_type": "code",
   "execution_count": 8,
   "metadata": {
    "collapsed": false
   },
   "outputs": [
    {
     "name": "stdout",
     "output_type": "stream",
     "text": [
      "x1 = 2.67;\n",
      "x2 = 1.33;\n",
      "x3 = 0.00;\n",
      "x4 = 0.00;\n",
      "The value of the objective function is 21.33.\n"
     ]
    }
   ],
   "source": [
    "model = pulp.LpProblem('Cutting plane example 2', pulp.LpMaximize)\n",
    "\n",
    "x1 = pulp.LpVariable('x1', lowBound=0, cat='Continuous')\n",
    "x2 = pulp.LpVariable('x2', lowBound=0, cat='Continuous')\n",
    "x3 = pulp.LpVariable('x3', lowBound=0, cat='Continuous')\n",
    "x4 = pulp.LpVariable('x4', lowBound=0, cat='Continuous')\n",
    "\n",
    "# x5 = pulp.LpVariable('x5', lowBound=0, cat='Continuous')\n",
    "\n",
    "model += c[0, 0]*x1 + c[1, 0]*x2\n",
    "\n",
    "model += A[0, 0]*x1 + A[0, 1]*x2 + A[0, 2]*x3 + A[0, 3]*x4 == b[0, 0]\n",
    "model += A[1, 0]*x1 + A[1, 1]*x2 + A[1, 2]*x3 + A[1, 3]*x4 == b[1, 0]\n",
    "# model += A[2, 0]*x1 + A[2, 1]*x2 + A[2, 2]*x3 + A[2, 3]*x4 + A[2, 4]*x5 == b[2, 0]\n",
    "\n",
    "model.solve()\n",
    "\n",
    "originalX1, originalX2 = None, None\n",
    "for v in model.variables():\n",
    "    print '%s = %.2f;' % (v, v.value())\n",
    "    \n",
    "    if v == x1:\n",
    "        originalX1 = x1.value()\n",
    "    if v == x2:\n",
    "        originalX2 = x2.value()\n",
    "\n",
    "print ('The value of the objective function is %.2f.' % (model.objective.value()))\n"
   ]
  },
  {
   "cell_type": "markdown",
   "metadata": {},
   "source": [
    "Note that the optimal solution is not integer so we can try to generate a valid inequality to eliminate this solution. In order to use Gomory's cutting plane algorithm, we need to find the optimal basis for this solution."
   ]
  },
  {
   "cell_type": "code",
   "execution_count": 11,
   "metadata": {
    "collapsed": false
   },
   "outputs": [
    {
     "name": "stdout",
     "output_type": "stream",
     "text": [
      "('The optimal basis is:\\n', matrix([[-0.33333333,  1.33333333],\n",
      "        [ 0.33333333, -0.33333333]]))\n"
     ]
    }
   ],
   "source": [
    "varDict = {0: x1, 1: x2, 2:x3, 3:x4}\n",
    "# varDict = {0: x1, 1: x2, 2:x3, 3:x4, 4:x5}\n",
    "\n",
    "basicVarIdx = [0, 1]\n",
    "nonBasicVarIdx = [i for i in range(A.shape[1]) if i not in basicVarIdx]\n",
    "\n",
    "basicVarIdx = sorted(basicVarIdx)\n",
    "\n",
    "basicMatrix = A[:, basicVarIdx[0]]\n",
    "basicMatrix = np.concatenate((basicMatrix, A[:, basicVarIdx[1]]), axis=1)\n",
    "# basicMatrix = np.concatenate((basicMatrix, A[:, basicVarIdx[2]]), axis=1)\n",
    "\n",
    "nonBasicMatrix = A[:, nonBasicVarIdx[0]]\n",
    "nonBasicMatrix = np.concatenate((nonBasicMatrix, A[: , nonBasicVarIdx[1]]), axis=1)\n",
    "\n",
    "# What we actually want is the inverse\n",
    "basicMatrix = basicMatrix**-1\n",
    "\n",
    "print ('The optimal basis is:\\n', basicMatrix)\n"
   ]
  },
  {
   "cell_type": "markdown",
   "metadata": {},
   "source": [
    "Now we need to choose one variable that is not integer in order to generate the cut."
   ]
  },
  {
   "cell_type": "code",
   "execution_count": 12,
   "metadata": {
    "collapsed": true
   },
   "outputs": [],
   "source": [
    "varIdx = 1  # We are choosing varible (x2, index 1)"
   ]
  },
  {
   "cell_type": "markdown",
   "metadata": {},
   "source": [
    "Then, we generate the cut:\n",
    "\n",
    "$$x_i + \\sum_{j \\in N} \\left \\lfloor a_{ij} \\right \\rfloor x_j \\leq \\left \\lfloor b_i \\right \\rfloor.$$"
   ]
  },
  {
   "cell_type": "code",
   "execution_count": 13,
   "metadata": {
    "collapsed": false
   },
   "outputs": [
    {
     "name": "stdout",
     "output_type": "stream",
     "text": [
      "1\n",
      "The cut we have generated is: \n",
      "x2 - x4 <= 1.0\n",
      "\n",
      "Getting the new solution:\n",
      "x1 = 2.00;\n",
      "x2 = 1.50;\n",
      "x3 = 0.00;\n",
      "x4 = 0.50;\n",
      "The value of the objective function is 21.00.\n"
     ]
    }
   ],
   "source": [
    "# Getting the correspondent rows in the matrix:\n",
    "CGx = (basicMatrix*nonBasicMatrix)[varIdx]\n",
    "CGb = (basicMatrix*b)[varIdx]\n",
    "       \n",
    "# Floor operation for a_{ij} and b_i\n",
    "CGx = np.floor(CGx)\n",
    "CGb = np.floor(CGb)\n",
    "\n",
    "# Building the left-hand side of our cut:       \n",
    "cut = varDict[varIdx] + CGx[0, 0]*varDict[nonBasicVarIdx[0]] + CGx[0, 1]*varDict[nonBasicVarIdx[1]]\n",
    "\n",
    "# Adding the cut into the model:\n",
    "model += cut <= CGb[0, 0]\n",
    "\n",
    "# Re-solving\n",
    "print model.solve()\n",
    "\n",
    "print ('The cut we have generated is: ')\n",
    "print cut <= CGb[0, 0]\n",
    "print\n",
    "print ('Getting the new solution:')\n",
    "for v in model.variables():\n",
    "    print '%s = %.2f;' % (v, v.value())\n",
    "\n",
    "print ('The value of the objective function is %.2f.' % model.objective.value())\n"
   ]
  },
  {
   "cell_type": "markdown",
   "metadata": {},
   "source": [
    "Note that the value of the objective function is worse than before, that is because the first problem is a relaxation of the new problem. Also, there are still variables with non integer values, so we should iterate again. But, before we do that, let us analyse our solution a bit more.\n",
    "\n",
    "The cut we generated is $x_2 - x_4 \\leq 1$. In order to visualise it we can re-write it as: \n",
    "\n",
    "$x_1 - 2x_2 \\leq 5$,\n",
    "\n",
    "where we used $x_4 = 4 - x_1 - x_2$.\n",
    "\n",
    "Now, we will plot the original feasible region with the cut."
   ]
  },
  {
   "cell_type": "code",
   "execution_count": 14,
   "metadata": {
    "collapsed": false
   },
   "outputs": [
    {
     "data": {
      "image/png": "[encoded data removed]",
      "text/plain": [
       "<matplotlib.figure.Figure at 0x7fe715d931d0>"
      ]
     },
     "metadata": {},
     "output_type": "display_data"
    }
   ],
   "source": [
    "# create the plot object\n",
    "fig, ax = plt.subplots(figsize=(8, 8))\n",
    "s = np.linspace(-1, 7)\n",
    "\n",
    "# add the cut we have generated\n",
    "ax.plot(s, (5.0 - s)/2.0, '--', lw=2, label='Chvatal-Gomory cut')\n",
    "\n",
    "# add first constraint\n",
    "ax.plot(s, (b[0,0]-A[0,0]*s)/A[0,1], lw=2, label='const 1')\n",
    "\n",
    "# add second constraint\n",
    "ax.plot(s, (b[1,0] - A[1,0]*s)/A[1,1], lw=2, label='const 2')\n",
    "\n",
    "# add non-negativity constraints\n",
    "ax.plot(np.zeros_like(s), s, lw=2, label='$x_1$ non-negative')\n",
    "ax.plot(s, np.zeros_like(s), lw=2, label='$x_2$ non-negative')\n",
    "\n",
    "# highlight the feasible region\n",
    "path = Path([\n",
    "    (0., 0.),\n",
    "    (0., 2),\n",
    "    (8/3.0, 4/3.0),\n",
    "    (4, 0),\n",
    "    (0., 0.),\n",
    "    (0., 0.),\n",
    "])\n",
    "\n",
    "patch = PathPatch(path, label='feasible region', alpha=0.5)\n",
    "ax.add_patch(patch)\n",
    "\n",
    "plt.scatter([originalX1], [originalX2],\n",
    "            marker='x', color='black',\n",
    "            s=40, linewidth=5,\n",
    "            label='Eliminated solution',\n",
    "            zorder=10)\n",
    "\n",
    "# labels and stuff\n",
    "plt.xlabel('$x_1$', fontsize=16)\n",
    "plt.ylabel('$x_2$', fontsize=16)\n",
    "plt.xlim(-1, 7)\n",
    "plt.ylim(-1, 7)\n",
    "plt.legend(fontsize=14, scatterpoints=1)\n",
    "plt.grid()\n",
    "plt.show()"
   ]
  },
  {
   "cell_type": "markdown",
   "metadata": {
    "collapsed": true
   },
   "source": [
    "Note that the cut eliminates the optimal solution we were getting in the linear relaxation of the problem. Also, since it is a valid inequality, it does not separate any other integer solution from the feasible region. \n",
    "\n",
    "Now, you can go back to the problem and iterate one more time to eliminate the current solution, since it is also non-integer."
   ]
  }
 ],
 "metadata": {
  "kernelspec": {
   "display_name": "Python 2",
   "language": "python",
   "name": "python2"
  },
  "language_info": {
   "codemirror_mode": {
    "name": "ipython",
    "version": 2
   },
   "file_extension": ".py",
   "mimetype": "text/x-python",
   "name": "python",
   "nbconvert_exporter": "python",
   "pygments_lexer": "ipython2",
   "version": "2.7.6"
  }
 },
 "nbformat": 4,
 "nbformat_minor": 0
}
