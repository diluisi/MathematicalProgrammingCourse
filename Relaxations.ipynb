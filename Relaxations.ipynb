{
 "cells": [
  {
   "cell_type": "markdown",
   "metadata": {},
   "source": [
    "# Mathematical programming with Jupyter Notebooks\n",
    "# Relaxations\n",
    "\n",
    "*Copyright 2016, Pedro Belin Castellucci & Franklina Maria Bragion de Toledo, All rights reserved.*\n",
    "\n",
    "*This Notebook is licenced under GLPv3 (https://opensource.org/licenses/GPL-3.0).*\n",
    "\n",
    "In this Notebook, we will talk about relaxations for integer problems. Let us start be importing the libraries we will use."
   ]
  },
  {
   "cell_type": "code",
   "execution_count": 17,
   "metadata": {
    "collapsed": true
   },
   "outputs": [],
   "source": [
    "# numpy for scientifical computing:\n",
    "import numpy as np\n",
    "\n",
    "# The solver we are using:\n",
    "import pulp\n",
    "\n",
    "#matplotbib for drawing\n",
    "%matplotlib inline\n",
    "\n",
    "from matplotlib import pyplot as plt\n",
    "from matplotlib.path import Path\n",
    "from matplotlib.patches import PathPatch\n",
    "from IPython.display import display"
   ]
  },
  {
   "cell_type": "markdown",
   "metadata": {},
   "source": [
    "We will start with the question: *how to know if we have an optimal solution of value $z$ to an integer problem?* One answer to this question is: we need a lower bound $\\underline{z} \\leq z$ and an upper bound $\\bar{z} \\geq z$ on the value of the integer problem such that $\\underline{z} = \\bar{z} = z$.\n",
    "\n",
    "Let us consider the following problem:\n",
    "\n",
    "Min $z = c(x)$\n",
    "\n",
    "s.t. $x \\in X \\subseteq \\mathbb{Z}^n$\n",
    "\n",
    "In order to obtain such bounds, note that every feasible solution $\\bar{x} \\in X$ to the problem provides an upper bound for the optimal solution, $\\bar{z} = c (\\bar{x}) \\geq z$. It is important to remark that feasible solutions for a __minimisation__ problem provide an __upper bound__ on the optimal solution value, while for __maximisation__ problems they provide a __lower bound__. Therefore, to make our discussion independent from the problem type, we will define __primal bounds__ and __dual bounds__.\n",
    "\n",
    "__Primal bounds__: primal bounds are feasible solutions to the problem at hand. For some problems, they are easy to find, however, it might be difficult to find *good* primal bounds. For other problems, the task of finding a feasible solution might be as hard as solving the problem itself.\n",
    "\n",
    "__Dual bounds__: the most usual approach in finding a dual bound is called __relaxation__ and is the subject of study of this Notebook. The key idea behind finding dual bounds is to replace a *difficult* problem by an *easier* one. Two strategies for relaxing are:\n",
    "\n",
    "- enlarge the set of feasible solutions;\n",
    "- replace the objective function by a function which has a value not worse than the original one in all the domain of the objective function.\n",
    "\n",
    "These strategies motivate the following definition.\n",
    "A problem: \n",
    "\n",
    "Min $z = f(x)$.\n",
    "\n",
    "s.t. $x \\in T \\subseteq \\mathbb{R}^n$\n",
    "\n",
    "is a __relaxation__ of:\n",
    "\n",
    "Min $z = c(x)$\n",
    "\n",
    "s.t. $x \\in X \\subseteq \\mathbb{R}^n$\n",
    "\n",
    "If, and only if:\n",
    "\n",
    "(i) $X \\subseteq T$, and\n",
    "\n",
    "(ii) $f(x) \\leq c(x), \\quad \\forall x \\in X.$\n",
    "\n",
    "The first relaxation we will discuss is called __linear relaxation__.\n",
    "\n",
    "\n",
    "## Linear programming relaxation\n",
    "\n",
    "The linear relaxed program of an integer program:\n",
    "\n",
    "Min $z = c(x)$\n",
    "\n",
    "s.t. $Ax \\leq b$,\n",
    "\n",
    "$x \\in \\mathbb{Z}^n$,\n",
    "\n",
    "is the problem:\n",
    "\n",
    "Min $z = c(x)$\n",
    "\n",
    "s.t. $Ax \\leq b$,\n",
    "\n",
    "$x \\in \\mathbb{R}^n$.\n",
    "\n",
    "Let us analyse an example. Consider the following integer program (IP):\n",
    "\n",
    "Min $z^R = -2x_1 -3x_2$\n",
    "\n",
    "s.t. \n",
    "\n",
    "$x_1 + 2x_2 \\leq 7$,\n",
    "\n",
    "$2x_1 + x_2 \\leq 7$,\n",
    "\n",
    "$-x_1 + 4x_2 \\leq 10$,\n",
    "\n",
    "$12x_1 + 5x_2 \\leq 39$,\n",
    "\n",
    "$x_1 \\geq 0$ and $x_2 \\geq 0$,\n",
    "\n",
    "$x_1$ and $x_2 \\in \\mathbb{Z}^n$.\n",
    "\n",
    "Let us solve the linear relaxation of this problem using PuLP."
   ]
  },
  {
   "cell_type": "code",
   "execution_count": 1,
   "metadata": {
    "collapsed": false
   },
   "outputs": [
    {
     "name": "stdout",
     "output_type": "stream",
     "text": [
      "x1 = 2.263\n",
      "x2 = 2.368\n",
      "The value of the solution is -11.632\n"
     ]
    }
   ],
   "source": [
    "import pulp\n",
    "model = pulp.LpProblem('Linear relaxation example', pulp.LpMinimize)\n",
    "\n",
    "# Note that we are defining the variables as continuous, not integer!\n",
    "x1 = pulp.LpVariable('x1', lowBound=0, cat='Continuous')\n",
    "x2 = pulp.LpVariable('x2', lowBound=0, cat='Continuous')\n",
    "\n",
    "model += -2*x1 - 3*x2  # Objective function\n",
    "\n",
    "model += x1 + 2*x2 <= 7\n",
    "model += 2*x1 + x2 <= 7\n",
    "model += -x1 + 4*x2 <= 10\n",
    "model += 12*x1 + 5*x2 <= 39\n",
    "\n",
    "status = model.solve()\n",
    "\n",
    "for v in model.variables():\n",
    "    val = v.value()\n",
    "    print ('%s = %.3f' % (v, val))\n",
    "        \n",
    "print ('The value of the solution is %.3f' % model.objective.value())"
   ]
  },
  {
   "cell_type": "markdown",
   "metadata": {},
   "source": [
    "So, an optimal solution for the __relaxed problem__  is $z^R = -11.632$, with $(x_1, x_2) = (2.263, 2.368)$. Since the problem we solved is a relaxation of (IP), $z^R$ is a dual bound for (IP), $\\underline{z} = z_R \\leq z $. By inspection, we can also see that $(x_1, x_2) = (1, 1)$ is a feasible solution to (IP), thus $\\bar{z} = -5$ is a primal bound for (IP). Therefore, we know that the optimal objective value for (IP) is limited within the interval $[\\underline{z}, \\bar{z}]$. \n",
    "\n",
    "We can define a measure of *how far* a solution is from the optimal if we have a dual bound. This measurement is called (MIP) __GAP__ and can be define as follows:\n",
    "\n",
    "$$GAP = \\frac{|(primal\\ bound) - (dual\\ bound)|}{|(primal\\ bound)|}.$$\n",
    "\n",
    "For our example, we have $GAP = \\frac{|-11.632 + 5|}{5} = 132.64\\%$.\n",
    "\n",
    "Now, we will go one step further. We know $x_1, x_2 \\in \\mathbb{Z}$ and all the coefficients of the objective function are integers. Therefore, we can tighten the dual bound to $\\underline{z} = -11$ and we can check that $(x_1, x_2) = (2, 2)$ corresponds to a feasible solution of value $\\bar{z} = 10$. The GAP associated with $(x_1, x_2) = (2, 2)$ is $GAP = \\frac{|-11 + 10|}{10} = 10\\%$, which is a much better GAP than the previous one. \n",
    "\n",
    "It is important to note that the GAP, as we defined it, is a measure of the __worst__ case scenario, namely, the current primal solution may be better than the GAP suggested (or even be optimal), but we cannot prove it yet. We should try to improve the (primal and/or dual) bounds."
   ]
  },
  {
   "cell_type": "markdown",
   "metadata": {},
   "source": [
    "# Lagrangian relaxation\n",
    "\n",
    "While the linear programming relaxation is based on the variables integrality, the Lagrangian relaxation is based on other constraints. Suppose we have the following problem:\n",
    "\n",
    "Min $z = c(x)$\n",
    "\n",
    "s.t. $Ax \\leq b $ \n",
    "\n",
    "$x \\in X \\subseteq \\mathbb{Z}^n$.\n",
    "\n",
    "But the problem is too difficult to solve. One could drop contraints $Ax \\leq b$ and solve the remaining problem to obtain a dual bound. This is particuly useful if, after dropping some constraints, there is a procedure to easily obtain a solution for the remaining problem.\n",
    "\n",
    "Let us use the following problem as an example:\n",
    "\n",
    "Min $z = -2x_1 -3x_2$\n",
    "\n",
    "s.t. \n",
    "\n",
    "$x_1 + 2x_2 \\leq 7$,\n",
    "\n",
    "$10x_1 + 6x_2 \\leq 35$,\n",
    "\n",
    "$-x_1 + 4x_2 \\leq 10$,\n",
    "\n",
    "$12x_1 + 5x_2 \\leq 39$,\n",
    "\n",
    "$x_1 \\geq 0$ and $x_2 \\geq 0$,\n",
    "\n",
    "$x_1$ and $x_2 \\in \\mathbb{Z}^n$.\n",
    "\n",
    "Which has the following feasible region:"
   ]
  },
  {
   "cell_type": "code",
   "execution_count": 19,
   "metadata": {
    "collapsed": false
   },
   "outputs": [
    {
     "data": {
      "text/plain": [
       "<matplotlib.legend.Legend at 0x7faaaa2b8bd0>"
      ]
     },
     "execution_count": 19,
     "metadata": {},
     "output_type": "execute_result"
    },
    {
     "data": {
      "image/png": "[encoded data removed]",
      "text/plain": [
       "<matplotlib.figure.Figure at 0x7faaaa37d450>"
      ]
     },
     "metadata": {},
     "output_type": "display_data"
    }
   ],
   "source": [
    "A = np.matrix('1 2; 10 6; -1 4; 12 5')\n",
    "b = np.matrix('7  ; 35  ; 10  ; 39')\n",
    "c = np.matrix('-2.0 -3.0')\n",
    "\n",
    "# create the plot object:\n",
    "fig, ax = plt.subplots(figsize=(8, 8))\n",
    "s = np.linspace(-1, 7)\n",
    "\n",
    "# Adding the constraints:\n",
    "ax.plot(s, (b[0,0]-A[0,0]*s)/A[0,1], lw=2, label='$x_1 + 2x_2 \\leq 7$')\n",
    "ax.plot(s, (b[1,0] - A[1,0]*s)/A[1,1], lw=2, label='$10x_1 + 6x_2 \\leq 35$')\n",
    "ax.plot(s, (b[2,0] - A[2,0]*s)/A[2,1], lw=2, label='$-x_1 + 4x_2 \\leq 10$')\n",
    "ax.plot(s, (b[3,0] - A[3,0]*s)/A[3,1], lw=2, label='$12x_1 + 5x_2 \\leq 39$')\n",
    "\n",
    "\n",
    "# add non-negativity constraints:\n",
    "ax.plot(np.zeros_like(s), s, lw=2, label='$x_1 \\geq 0$')\n",
    "ax.plot(s, np.zeros_like(s), lw=2, label='$x_2 \\geq 0$')\n",
    "\n",
    "# labels and stuff\n",
    "ax.legend(fontsize=18)\n",
    "\n",
    "plt.xlabel('$x_1$', fontsize=22)\n",
    "plt.ylabel('$x_2$', fontsize=22)\n",
    "plt.xlim(-1, 7)\n",
    "plt.ylim(-1, 7)\n",
    "plt.grid()\n",
    "\n",
    "# In order to plot the feasible point we need upper bound for x1 and x2:\n",
    "x1Upper, x2Upper = 5, 5\n",
    "\n",
    "s1 = range(0, x1Upper + 1)\n",
    "s2 = range(0, x2Upper + 1)\n",
    "\n",
    "x1ToPlot, x2ToPlot = [], []\n",
    "for x1 in s1:\n",
    "    for x2 in s2:\n",
    "        # Now we check if point (x1, x2) respect constraints Ax <= b:\n",
    "        if x1 + 2*x2 <= 7.0 and 2*x1 + x2 <= 7.0:\n",
    "            x1ToPlot.append(x1)\n",
    "            x2ToPlot.append(x2)\n",
    "\n",
    "ax.scatter(x1ToPlot, x2ToPlot, label=\"Feasible point\")\n",
    "ax.legend(scatterpoints=1, fontsize=18)\n",
    "\n",
    "# display(fig)"
   ]
  },
  {
   "cell_type": "markdown",
   "metadata": {
    "collapsed": false
   },
   "source": [
    "We will relax some constraints, so we will solve the problem:\n",
    "\n",
    "Min $z^R = -2x_1 -3x_2$\n",
    "\n",
    "s.t. \n",
    "\n",
    "$x_1 + 2x_2 \\leq 7$,\n",
    "\n",
    "$10x_1 + 6x_2 \\leq 35$,\n",
    "\n",
    "$x_1 \\geq 0$ and $x_2 \\geq 0$,\n",
    "\n",
    "$x_1$ and $x_2 \\in \\mathbb{Z}^n$.\n",
    "\n",
    "We will solve it using PuLP:"
   ]
  },
  {
   "cell_type": "code",
   "execution_count": 2,
   "metadata": {
    "collapsed": false
   },
   "outputs": [
    {
     "name": "stdout",
     "output_type": "stream",
     "text": [
      "Value of the variables:\n",
      "x1 = 1.000\n",
      "x2 = 3.000\n",
      "The value of the solution is -11.000\n"
     ]
    }
   ],
   "source": [
    "import pulp\n",
    "model = pulp.LpProblem('Lagragian relaxation example', pulp.LpMinimize)\n",
    "\n",
    "x1 = pulp.LpVariable('x1', lowBound=0, cat='Integer')\n",
    "x2 = pulp.LpVariable('x2', lowBound=0, cat='Integer')\n",
    "\n",
    "model += -2*x1 - 3*x2  # Objective function\n",
    "\n",
    "model += x1 + 2*x2 <= 7\n",
    "model += 10*x1 + 6*x2 <= 35\n",
    "\n",
    "# These are the relaxed constraints:\n",
    "# model += -x1 + 4*x2 <= 10\n",
    "# model += 12*x1 + 5*x2 <= 39\n",
    "\n",
    "model.solve()\n",
    "\n",
    "print ('Value of the variables:')\n",
    "for v in model.variables():\n",
    "    val = v.value()\n",
    "    print ('%s = %.3f' % (v, val))\n",
    "        \n",
    "print ('The value of the solution is %.3f' % model.objective.value())"
   ]
  },
  {
   "cell_type": "markdown",
   "metadata": {},
   "source": [
    "PuLP has found an optimal solution $z^R = -11$, $(x_1, x_2) = (1, 3)$. Since we solved a relaxation, we have a dual bound $z^R \\leq z$. We already know, from the previous example, that $-10$ is a primal bound so we can have a GAP of: \n",
    "\n",
    "$$GAP = \\frac{|-11 + 10|}{10} = 10\\%.$$\n",
    "\n",
    "Note that $(x_1, x_2) = (1, 3)$, even though it corresponds to integer values for $x_1$ and $x_2$,  is __not__ a feasible solution for the original problem, therefore it is not a primal bound. In the linear relaxation procedure, if the relaxed solution corresponds to integer values for the variables, then we have also found a primal bound and, therefore, an optimal solution.\n",
    "\n",
    "Now, as an exercise, relax one constraint at a time and check which one will give the best dual bound. Also, draw the feasible region of the problem to help you visualise the consequences of relaxing each constraint.\n",
    "\n",
    "A more sofisticated idea consists of incorporating the constraints in the objective function -- not dropping them -- with *Langragian multipliers* (also called dual variables). Then, the original problem:\n",
    "\n",
    "Min $z = c(x)$\n",
    "\n",
    "s.t. $Ax \\leq b$, \n",
    "\n",
    "$x \\in X \\subseteq \\mathbb{Z}^n$, \n",
    "\n",
    "becomes, \n",
    "\n",
    "Min $z(u) = c(x) - u(b - Ax)$\n",
    "\n",
    "s.t. $x \\in X \\subseteq \\mathbb{Z}^n$,\n",
    "\n",
    "$u \\geq 0$.\n",
    "\n",
    "Variables $u$ are called Langragian multiplers.\n",
    "\n",
    "We will see how we can apply this to our example.\n",
    "\n",
    "Min $z^R = -2x_1 -3x_2 - u_1(-x_1 + 4x_2) - u_2(12x_1 + 5x_2)$\n",
    "\n",
    "s.t. \n",
    "\n",
    "$x_1 + 2x_2 \\leq 7$,\n",
    "\n",
    "$2x_1 + x_2 \\leq 7$,\n",
    "\n",
    "$x_1 \\geq 0$ and $x_2 \\geq 0$,\n",
    "\n",
    "$u_1 \\geq 0$ and $u_2 \\geq 0$,\n",
    "\n",
    "$x_1$ and $x_2 \\in \\mathbb{Z}^n$.\n",
    "\n",
    "Note that this problem problem is not linear, due to the products among variables $u$ and $x$. But, since it is a relaxation, every solution to the problem will give us a dual bound. We will check the dual bound we get for $(u_1, u_2) = (0, 0.1)$."
   ]
  },
  {
   "cell_type": "code",
   "execution_count": 3,
   "metadata": {
    "collapsed": false
   },
   "outputs": [
    {
     "name": "stdout",
     "output_type": "stream",
     "text": [
      "The value of the variables:\n",
      "x1 = 1.000\n",
      "x2 = 3.000\n",
      "The value of the solution is -13.700\n"
     ]
    }
   ],
   "source": [
    "import pulp\n",
    "model = pulp.LpProblem('Lagragian relaxation example', pulp.LpMinimize)\n",
    "\n",
    "# Note that we are defining the variables as continuous, not integer!\n",
    "x1 = pulp.LpVariable('x1', lowBound=0, cat='Integer')\n",
    "x2 = pulp.LpVariable('x2', lowBound=0, cat='Integer')\n",
    "\n",
    "model += -2*x1 -3*x2 - 0*(-x1 + 4*x2) - 0.1*(12*x1 + 5*x2)  # Objective function\n",
    "\n",
    "model += x1 + 2*x2 <= 7\n",
    "model += 10*x1 + 6*x2 <= 35\n",
    "\n",
    "# These are the relaxed constraints:\n",
    "# model += -x1 + 4*x2 <= 10\n",
    "# model += 12*x1 + 5*x2 <= 39\n",
    "\n",
    "model.solve()\n",
    "\n",
    "print ('The value of the variables:')\n",
    "for v in model.variables():\n",
    "    val = v.value()\n",
    "    print ('%s = %.3f' % (v, val))\n",
    "        \n",
    "print ('The value of the solution is %.3f' % model.objective.value())"
   ]
  },
  {
   "cell_type": "markdown",
   "metadata": {},
   "source": [
    "The solution $z^R = -13.7$ is a dual bound to the original problem and the GAP related to our primal bound, $-10$, is $$GAP = \\frac{|-13.7 + 10|}{10} = 37\\%.$$\n",
    "\n",
    "Now, as an exercise, you can change the values of variables $u_1$ and $u_2$, trying to get a better dual bound.\n",
    "\n",
    "\n",
    "# Combinatorial relaxation\n",
    "\n",
    "If it is interesting to relax a problem such that the relaxed problem is combinatorial we call this procedure a *combinatorial relaxation*. The key idea, as in other relaxations, is that the relaxed problem should be easier to solve and provide a *good* dual bound. \n",
    "\n",
    "As an example, we will argue that finding the minimum one-tree is a relaxation of the minimum tour problem. A one-tree is a graph formed by a tree plus one extra edge, which forms a single cycle. If the cycle contains all nodes, we call it a tour. Therefore, the problem of finding the minimum one-tree is a relaxation of the problem of finding the minimum tour.\n",
    "\n",
    "To build an example, we will use the Networkx library."
   ]
  },
  {
   "cell_type": "code",
   "execution_count": 22,
   "metadata": {
    "collapsed": false,
    "scrolled": true
   },
   "outputs": [
    {
     "data": {
      "text/plain": [
       "<matplotlib.collections.LineCollection at 0x7faaae3669d0>"
      ]
     },
     "execution_count": 22,
     "metadata": {},
     "output_type": "execute_result"
    },
    {
     "data": {
      "image/png": "[encoded data removed]",
      "text/plain": [
       "<matplotlib.figure.Figure at 0x7faaaa4506d0>"
      ]
     },
     "metadata": {},
     "output_type": "display_data"
    }
   ],
   "source": [
    "import networkx as nx\n",
    "\n",
    "graph = nx.Graph()\n",
    "graph.add_edge(1, 2)\n",
    "graph.add_edge(1, 3)\n",
    "graph.add_edge(2, 4)\n",
    "graph.add_edge(2, 6)\n",
    "graph.add_edge(3, 5)\n",
    "graph.add_edge(3, 7)\n",
    "graph.add_edge(3, 8)\n",
    "graph.add_edge(5, 7)\n",
    "graph.add_edge(6, 7)\n",
    "\n",
    "graph.add_edge(4, 8)\n",
    "\n",
    "plt.axis('off')\n",
    "pos = nx.spring_layout(graph)\n",
    "nx.draw_networkx(graph, pos,  style='dotted')\n",
    "nx.draw_networkx_edges(graph, pos, edgelist=[\n",
    "        (1, 2), (1, 3), (2, 4), (2, 6), (3, 5), (3, 7), (3, 8)],\n",
    "                      width=3, edge_color='g')\n",
    "nx.draw_networkx_edges(graph, pos, edgelist=[(7, 5)], width=3, alpha=0.7, edge_color='b')"
   ]
  },
  {
   "cell_type": "markdown",
   "metadata": {
    "collapsed": true
   },
   "source": [
    "Let us suppose that the graph with the edges in green and blue are the minimum one tree. Note that, because of edge $\\{5, 7\\}$, the graph with the green edges becomes a one-tree. However, the cycle $(3, 5, 7)$ is not a tour because it does not contain all graph nodes. If the minimum cycle in the minimum one-tree contain all graph nodes, than it is also a tour and, therefore, it is also a solution to the minimum tour problem."
   ]
  }
 ],
 "metadata": {
  "kernelspec": {
   "display_name": "Python 2",
   "language": "python",
   "name": "python2"
  },
  "language_info": {
   "codemirror_mode": {
    "name": "ipython",
    "version": 2
   },
   "file_extension": ".py",
   "mimetype": "text/x-python",
   "name": "python",
   "nbconvert_exporter": "python",
   "pygments_lexer": "ipython2",
   "version": "2.7.6"
  }
 },
 "nbformat": 4,
 "nbformat_minor": 0
}
